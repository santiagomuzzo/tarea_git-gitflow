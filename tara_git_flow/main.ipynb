{
 "cells": [
  {
   "cell_type": "markdown",
   "metadata": {},
   "source": [
    "En primer lugar traemos a una lista todos los elementos del archivo json"
   ]
  },
  {
   "cell_type": "code",
   "execution_count": 9,
   "metadata": {},
   "outputs": [],
   "source": [
    "import json\n",
    "\n",
    "\n",
    "tweetsList = []\n",
    "\n",
    "for tweetInfo in open(\"../farmers-protest-tweets-2021-03-5.json\" , 'r'):\n",
    "        tweet= json.loads(tweetInfo)\n",
    "        tweetsList.append(tweet)\n"
   ]
  },
  {
   "cell_type": "markdown",
   "metadata": {},
   "source": [
    "A continuación, se realiza la primera función, para obtener los 10 tweets más retweeted"
   ]
  },
  {
   "cell_type": "code",
   "execution_count": 35,
   "metadata": {},
   "outputs": [],
   "source": [
    "from operator import itemgetter\n",
    "\n",
    "def mostRetweeted(globalList):\n",
    "\n",
    "    sortedList = sorted(globalList, key=itemgetter('retweetCount'), reverse=True)\n",
    "    topTenList = sortedList[:10]\n",
    "    print(topTenList)\n",
    "\n",
    "\n"
   ]
  },
  {
   "cell_type": "markdown",
   "metadata": {},
   "source": [
    "La segunda función solicitada, consiste en obtener a los 10 usuarios con la mayor cantidad de tweets emitidos respecto al tema"
   ]
  },
  {
   "cell_type": "code",
   "execution_count": 37,
   "metadata": {},
   "outputs": [],
   "source": [
    "import re\n",
    "\n",
    "def mostTweetsFromUser(globalList):\n",
    "    userList = []\n",
    "    for tweet in globalList:\n",
    "        userList.append(tweet['user'])\n",
    "    \n",
    "\n",
    "    sortedList = sorted(userList, key=itemgetter('statusesCount'), reverse=True)\n",
    "\n",
    "    topTenUsers = sortedList[:10]\n",
    "\n",
    "    print(topTenUsers)\n",
    "\n",
    "    "
   ]
  },
  {
   "cell_type": "markdown",
   "metadata": {},
   "source": [
    "La tercera función consiste en buscar los días que contengan la mayor cantidad de tweets"
   ]
  },
  {
   "cell_type": "code",
   "execution_count": 38,
   "metadata": {},
   "outputs": [],
   "source": [
    "\n",
    "def mostTweetsInADay(globalList):\n",
    "    dateDic = {}\n",
    "    for tweet in globalList:\n",
    "        date = tweet['date']\n",
    "        day = date[:10]\n",
    "        if day in dateDic.keys():\n",
    "            dateDic[day] += 1\n",
    "        else: \n",
    "            dateDic[day] = 1\n",
    "    orderedDic = sorted(dateDic.items(), key=itemgetter(1), reverse=True)\n",
    "    #orderedDic = dict(sorted(dateDic.items(), key=lambda item: item[1]))\n",
    "\n",
    "    print(orderedDic[:10])\n"
   ]
  },
  {
   "cell_type": "code",
   "execution_count": 40,
   "metadata": {},
   "outputs": [
    {
     "name": "stdout",
     "output_type": "stream",
     "text": [
      "Opción seleccionada: 4\n",
      "NOS VEMOS\n"
     ]
    }
   ],
   "source": [
    "def main(globalList):\n",
    "\n",
    "\n",
    "    while True:\n",
    "        selectOption = int(input(\"\"\"Que acción desa realizar:\n",
    "        1. TOP 10 Tweets con más reTweets\n",
    "        2. TOP 10 usuarios con más tweets\n",
    "        3. TOP 10 días con más tweets\n",
    "        4. SALIR\"\"\"))\n",
    "\n",
    "        print (f\"Opción seleccionada: {selectOption}\")\n",
    "        if selectOption == 1:\n",
    "            mostRetweeted(globalList)\n",
    "        elif selectOption == 2:\n",
    "            mostTweetsFromUser(globalList)\n",
    "        elif selectOption == 4:\n",
    "            print(\"NOS VEMOS\")\n",
    "            break\n",
    "        elif selectOption == 3:\n",
    "            mostTweetsInADay(globalList)\n",
    "    \n",
    "\n",
    "main(tweetsList)\n",
    "    "
   ]
  }
 ],
 "metadata": {
  "interpreter": {
   "hash": "6deba8df1168926c419eb59a4c3d66ee1b603bec0d86fea6760ebdcca17a89da"
  },
  "kernelspec": {
   "display_name": "Python 3.9.6 64-bit ('3.9.6')",
   "language": "python",
   "name": "python3"
  },
  "language_info": {
   "codemirror_mode": {
    "name": "ipython",
    "version": 3
   },
   "file_extension": ".py",
   "mimetype": "text/x-python",
   "name": "python",
   "nbconvert_exporter": "python",
   "pygments_lexer": "ipython3",
   "version": "3.9.6"
  },
  "orig_nbformat": 4
 },
 "nbformat": 4,
 "nbformat_minor": 2
}
